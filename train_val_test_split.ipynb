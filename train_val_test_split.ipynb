{
  "cells": [
    {
      "cell_type": "code",
      "source": "import os\nimport numpy as np\nimport torch\nimport torch.nn as nn\nimport torch.nn.functional as F\nimport torch.optim as optim\nimport torchvision\nfrom torch.utils.data import Dataset, DataLoader, random_split, TensorDataset\nimport torchvision.transforms as transforms\nimport torchvision.models\nimport matplotlib.pyplot as plt\nimport time\n\nfrom PIL import ImageFile, Image\nImageFile.LOAD_TRUNCATED_IMAGES = True",
      "metadata": {
        "tags": [],
        "cell_id": "00000-ec247511-be90-4fe1-ba93-2087a9b22584",
        "deepnote_to_be_reexecuted": false,
        "source_hash": "5f9bf512",
        "execution_millis": 2394,
        "execution_start": 1616297289470,
        "deepnote_cell_type": "code"
      },
      "outputs": [],
      "execution_count": null
    },
    {
      "cell_type": "code",
      "source": "# Pytorch seed for reproducable results\ntorch.manual_seed(1000)\ntorch.set_deterministic(True)",
      "metadata": {
        "tags": [],
        "cell_id": "00001-de7a0c6f-c2dc-4837-b54b-45b75bb5060a",
        "deepnote_to_be_reexecuted": false,
        "source_hash": "23d6d6e7",
        "execution_millis": 21,
        "execution_start": 1616297291870,
        "deepnote_cell_type": "code"
      },
      "outputs": [
        {
          "name": "stderr",
          "text": "/shared-libs/python3.7/py/lib/python3.7/site-packages/torch/__init__.py:422: UserWarning: torch.set_deterministic is deprecated and will be removed in a future release. Please use torch.use_deterministic_algorithms instead\n  \"torch.set_deterministic is deprecated and will be removed in a future \"\n",
          "output_type": "stream"
        }
      ],
      "execution_count": null
    },
    {
      "cell_type": "code",
      "metadata": {
        "tags": [],
        "cell_id": "00000-51471fa3-f679-4169-a623-a1edd920009d",
        "deepnote_to_be_reexecuted": false,
        "source_hash": "46e0cace",
        "execution_millis": 730,
        "output_cleared": false,
        "execution_start": 1616297291884,
        "deepnote_cell_type": "code"
      },
      "source": "# Get dataloader for the train, validation, and test set\ndef get_data_loader(batch_size):\n    # Normalize images to the range [-1, 1]\n    transform = transforms.Compose([\n        transforms.ToTensor()\n    ])\n\n    # Load Dataset\n    path = './Mushrooms'\n    dataset = torchvision.datasets.ImageFolder(path, transform=transform)\n    \n    # Split into train, validation, and test sets\n    num_images = len(dataset)\n    train_len, val_len = int(0.7 * num_images), int(0.2 * num_images)\n    test_len = num_images - train_len - val_len\n\n    train_data, val_data, test_data = random_split(\n        dataset,\n        [train_len, val_len, test_len],\n        generator=torch.Generator()\n    )\n    \n    # Create dataloaders\n    train_loader = torch.utils.data.DataLoader(train_data, batch_size=batch_size, shuffle=True)\n    val_loader = torch.utils.data.DataLoader(val_data, batch_size=batch_size, shuffle=True)\n    test_loader = torch.utils.data.DataLoader(test_data, batch_size=batch_size, shuffle=True)\n    return train_loader, val_loader, test_loader\n\ntrain_loader, val_loader, test_loader = get_data_loader(1)\n\n# print(next(iter(train_loader)))\n# plt.imshow(transforms.functional.to_pil_image(next(iter(train_loader))[0].squeeze(0)))\n\n",
      "outputs": [],
      "execution_count": null
    },
    {
      "cell_type": "code",
      "source": "# Copy images to their respective folders\nROOT_DIR = './Mushrooms'\nTRAIN_DIR = './Mush_train'\nVAL_DIR = './Mush_val'\nTEST_DIR = './Mush_test'\nclass_dirs = ['Agaricus', 'Amanita', 'Boletus', 'Cortinarius', 'Entoloma', 'Hygrocybe', 'Lactarius', 'Russula', 'Suillus']\n\nos.mkdir(TRAIN_DIR)\nos.mkdir(VAL_DIR)\nos.mkdir(TEST_DIR)\n\nimage_count = 0\n\nfor data_pair in train_loader:\n    image = transforms.functional.to_pil_image(data_pair[0][0])\n    label = data_pair[1].item()\n\n    folder_path = TRAIN_DIR + '/' + class_dirs[label]\n\n    # create folder if it does not exist\n    if not os.path.isdir(folder_path):\n        os.mkdir(folder_path)\n\n    image_path = folder_path + '/image_' + str(image_count) + '.jpg'\n    image.save(image_path)\n\n    image_count += 1\n\n\nfor data_pair in val_loader:\n    image = transforms.functional.to_pil_image(data_pair[0][0])\n    label = data_pair[1].item()\n\n    folder_path = VAL_DIR + '/' + class_dirs[label]\n\n    # create folder if it does not exist\n    if not os.path.isdir(folder_path):\n        os.mkdir(folder_path)\n\n    image_path = folder_path + '/image_' + str(image_count) + '.jpg'\n    image.save(image_path)\n\n    image_count += 1\n\n\nfor data_pair in test_loader:\n    image = transforms.functional.to_pil_image(data_pair[0][0])\n    label = data_pair[1].item()\n\n    folder_path = TEST_DIR + '/' + class_dirs[label]\n\n    # create folder if it does not exist\n    if not os.path.isdir(folder_path):\n        os.mkdir(folder_path)\n\n    image_path = folder_path + '/image_' + str(image_count) + '.jpg'\n    image.save(image_path)\n\n    image_count += 1",
      "metadata": {
        "tags": [],
        "cell_id": "00002-b1596c00-c62f-4468-9519-3030200926cb",
        "deepnote_to_be_reexecuted": false,
        "source_hash": "38384416",
        "execution_millis": 716675,
        "execution_start": 1616297292629,
        "deepnote_cell_type": "code"
      },
      "outputs": [],
      "execution_count": null
    },
    {
      "cell_type": "markdown",
      "source": "<a style='text-decoration:none;line-height:16px;display:flex;color:#5B5B62;padding:10px;justify-content:end;' href='https://deepnote.com?utm_source=created-in-deepnote-cell&projectId=88b4a261-3cf5-4bb1-820f-4791ebb8a30d' target=\"_blank\">\n<img style='display:inline;max-height:16px;margin:0px;margin-right:7.5px;' src='data:image/svg+xml;base64,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' > </img>\nCreated in <span style='font-weight:600;margin-left:4px;'>Deepnote</span></a>",
      "metadata": {
        "tags": [],
        "created_in_deepnote_cell": true,
        "deepnote_cell_type": "markdown"
      }
    }
  ],
  "nbformat": 4,
  "nbformat_minor": 2,
  "metadata": {
    "orig_nbformat": 2,
    "deepnote_notebook_id": "fc575d92-0d28-48ac-af49-88f9de51e4d9",
    "deepnote": {},
    "deepnote_execution_queue": []
  }
}