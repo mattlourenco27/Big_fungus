{
  "cells": [
    {
      "cell_type": "code",
      "metadata": {
        "tags": [],
        "cell_id": "00000-34fdbff8-1152-41c0-8d37-1e5bd2e4eb50",
        "deepnote_to_be_reexecuted": false,
        "source_hash": "1575b1d8",
        "execution_millis": 23169,
        "output_cleared": false,
        "execution_start": 1616298101478,
        "deepnote_cell_type": "code"
      },
      "source": "!pip install scikit-image\nimport os\nimport torch\nimport numpy as np\nfrom torchvision import transforms\nfrom PIL import Image, ImageEnhance\nfrom skimage.util import random_noise\n\nimport math\nimport random\nimport matplotlib.pyplot as plt\n\nIM_SIZE = 240",
      "outputs": [
        {
          "name": "stdout",
          "text": "Collecting scikit-image\n  Downloading scikit_image-0.18.1-cp37-cp37m-manylinux1_x86_64.whl (29.2 MB)\n\u001b[K     |████████████████████████████████| 29.2 MB 21.5 MB/s \n\u001b[?25hCollecting networkx>=2.0\n  Downloading networkx-2.5-py3-none-any.whl (1.6 MB)\n\u001b[K     |████████████████████████████████| 1.6 MB 21.7 MB/s \n\u001b[?25hRequirement already satisfied: pillow!=7.1.0,!=7.1.1,>=4.3.0 in /shared-libs/python3.7/py/lib/python3.7/site-packages (from scikit-image) (8.1.2)\nRequirement already satisfied: numpy>=1.16.5 in /shared-libs/python3.7/py/lib/python3.7/site-packages (from scikit-image) (1.19.5)\nRequirement already satisfied: scipy>=1.0.1 in /shared-libs/python3.7/py/lib/python3.7/site-packages (from scikit-image) (1.6.1)\nCollecting PyWavelets>=1.1.1\n  Downloading PyWavelets-1.1.1-cp37-cp37m-manylinux1_x86_64.whl (4.4 MB)\n\u001b[K     |████████████████████████████████| 4.4 MB 50.2 MB/s \n\u001b[?25hRequirement already satisfied: matplotlib!=3.0.0,>=2.0.0 in /shared-libs/python3.7/py/lib/python3.7/site-packages (from scikit-image) (3.3.4)\nCollecting tifffile>=2019.7.26\n  Downloading tifffile-2021.3.17-py3-none-any.whl (163 kB)\n\u001b[K     |████████████████████████████████| 163 kB 15.1 MB/s \n\u001b[?25hCollecting imageio>=2.3.0\n  Downloading imageio-2.9.0-py3-none-any.whl (3.3 MB)\n\u001b[K     |████████████████████████████████| 3.3 MB 15.7 MB/s \n\u001b[?25hRequirement already satisfied: decorator>=4.3.0 in /shared-libs/python3.7/py-core/lib/python3.7/site-packages (from networkx>=2.0->scikit-image) (4.4.2)\nRequirement already satisfied: kiwisolver>=1.0.1 in /shared-libs/python3.7/py/lib/python3.7/site-packages (from matplotlib!=3.0.0,>=2.0.0->scikit-image) (1.3.1)\nRequirement already satisfied: cycler>=0.10 in /shared-libs/python3.7/py/lib/python3.7/site-packages (from matplotlib!=3.0.0,>=2.0.0->scikit-image) (0.10.0)\nRequirement already satisfied: python-dateutil>=2.1 in /shared-libs/python3.7/py-core/lib/python3.7/site-packages (from matplotlib!=3.0.0,>=2.0.0->scikit-image) (2.8.1)\nRequirement already satisfied: pyparsing!=2.0.4,!=2.1.2,!=2.1.6,>=2.0.3 in /shared-libs/python3.7/py-core/lib/python3.7/site-packages (from matplotlib!=3.0.0,>=2.0.0->scikit-image) (2.4.7)\nRequirement already satisfied: six in /shared-libs/python3.7/py-core/lib/python3.7/site-packages (from cycler>=0.10->matplotlib!=3.0.0,>=2.0.0->scikit-image) (1.15.0)\nInstalling collected packages: networkx, PyWavelets, tifffile, imageio, scikit-image\nSuccessfully installed PyWavelets-1.1.1 imageio-2.9.0 networkx-2.5 scikit-image-0.18.1 tifffile-2021.3.17\n\u001b[33mWARNING: You are using pip version 20.1.1; however, version 21.0.1 is available.\nYou should consider upgrading via the '/root/venv/bin/python -m pip install --upgrade pip' command.\u001b[0m\n",
          "output_type": "stream"
        }
      ],
      "execution_count": null
    },
    {
      "cell_type": "code",
      "metadata": {
        "tags": [],
        "cell_id": "00000-b9f31acb-41b1-4ce5-a34f-8ed2a95a6294",
        "deepnote_to_be_reexecuted": false,
        "source_hash": "f2d579ef",
        "execution_millis": 1,
        "output_cleared": true,
        "execution_start": 1616298124647,
        "deepnote_cell_type": "code"
      },
      "source": "'''\n    Definition of the horizontal flip function\n\n    Flips one image\n\n    Params\n    image: PIL.Image.Image object or torch.Tensor will both work\n\n    Returns\n        a flipped version of a PIL Image or Tensor along the horizontal axis\n'''\n\ndef horizontal_flip(image):\n    was_pil = False\n    \n    if isinstance(image, Image.Image):\n        image = transforms.functional.to_tensor(image)\n        was_pil = True\n    elif isinstance(image, torch.Tensor) and len(image.shape) != 3:\n        raise Exception(\"Cannot mirror multiple images at once. Input image(s) is not of the format CHW\")\n    \n    image = torch.flip(image, (2,))\n\n    if was_pil:\n        image = transforms.functional.to_pil_image(image)\n\n    return image\n\n# img = Image.open('./Mushrooms/Agaricus/000_ePQknW8cTp8.jpg')\n# flipped = horizontal_flip(img)\n\n# plt.figure(1)\n# plt.imshow(img)\n\n# plt.figure(2)\n# plt.imshow(flipped)\n\n# img.save('./poggers.jpg')",
      "execution_count": null,
      "outputs": []
    },
    {
      "cell_type": "code",
      "metadata": {
        "tags": [],
        "cell_id": "00002-c6b3cf52-8065-478c-9feb-2118708919f7",
        "deepnote_to_be_reexecuted": false,
        "source_hash": "c417798a",
        "execution_millis": 30,
        "execution_start": 1616298124648,
        "deepnote_cell_type": "code"
      },
      "source": "'''\n    Definition of the rotation function\n\n    Rotates one image and crops out blank space that is created.\n    Images are resized back to their original size\n    NOTE: Images can undergo strech deformation if the input image is not square\n\n    Params\n    image: PIL.Image.Image object\n    angle: rotation in degrees, leave empty for random between -60 and 60\n    resize_image: set to True to resize the image back to its original size\n\n    Returns\n        a rotated version of the input image\n'''\n\ndef rotate_by(image, angle=None, resize_image=False):\n    w, h = image.size\n    \n    if angle is None:\n        angle = random.randint(-60, 60)\n\n    ########################################################################################################\n    # algorithm from https://stackoverflow.com/questions/16702966/rotate-image-and-crop-out-black-borders\n    #     by: coproc\n\n    if w <= 0 or h <= 0:\n        return 0,0\n\n    width_is_longer = w >= h\n    side_long, side_short = (w,h) if width_is_longer else (h,w)\n\n    # since the solutions for angle, -angle and 180-angle are all the same,\n    # if suffices to look at the first quadrant and the absolute values of sin,cos:\n    sin_a, cos_a = abs(math.sin(angle * math.pi / 180)), abs(math.cos(angle * math.pi / 180))\n    if side_short <= 2.*sin_a*cos_a*side_long or abs(sin_a-cos_a) < 1e-10:\n        # half constrained case: two crop corners touch the longer side,\n        #   the other two corners are on the mid-line parallel to the longer line\n        x = 0.5*side_short\n        wr,hr = (x/sin_a,x/cos_a) if width_is_longer else (x/cos_a,x/sin_a)\n    else:\n        # fully constrained case: crop touches all 4 sides\n        cos_2a = cos_a*cos_a - sin_a*sin_a\n        wr,hr = (w*cos_a - h*sin_a)/cos_2a, (h*cos_a - w*sin_a)/cos_2a\n    ########################################################################################################\n\n    r = min(wr, hr)\n    \n    image = image.rotate(angle=angle).crop(((w-r)/2, (h-r)/2, (w+r)/2, (h+r)/2))\n    \n    if resize_image:\n        image = image.resize((IM_SIZE, IM_SIZE))\n    \n    return image\n\n# img = Image.open('./Mushrooms/Agaricus/000_ePQknW8cTp8.jpg')\n# rotated = rotate_by(img, angle=None, resize_image=False)\n\n# plt.figure(1)\n# plt.imshow(img)\n\n# plt.figure(2)\n# plt.imshow(rotated)",
      "outputs": [],
      "execution_count": null
    },
    {
      "cell_type": "code",
      "metadata": {
        "tags": [],
        "cell_id": "00003-327fbab3-9a1a-479f-a305-e82ecd4f4b95",
        "deepnote_to_be_reexecuted": false,
        "source_hash": "d1996343",
        "execution_millis": 1,
        "output_cleared": false,
        "execution_start": 1616298124705,
        "deepnote_cell_type": "code"
      },
      "source": "'''\n    Definition of image scaling function\n\n    Scales and randomly crops image to the given zoom factor\n    Resizes the image back to its original size\n\n    Params\n    image: PIL.Image.Image object\n    zoom: zoom factor, float greater than 1. Do not specify for random in range [1.1, 1.5)\n    resize_image: set to True to resize the image back to its original size\n\n    Returns\n        a randomly scaled version of the input image\n'''\n\ndef random_scale(image, zoom=None, resize_image=False):\n    if zoom is None:\n        zoom = random.random() * 0.4 + 1.1\n    \n    if zoom <= 1:\n        return image\n    \n    w, h = image.size\n    wr, hr = w/zoom, h/zoom\n    r = min(wr, hr)\n\n    left = random.randint(0, int(w-r))\n    top = random.randint(0, int(h-r))\n\n    image = image.crop((left, top, left + r, top + r))\n    if resize_image:\n        image = image.resize((IM_SIZE, IM_SIZE))\n\n    return image\n\n# img = Image.open('./Mushrooms/Agaricus/000_ePQknW8cTp8.jpg')\n# scaled = random_scale(img, zoom=None, resize_image=False)\n\n# plt.figure(1)\n# plt.imshow(img)\n\n# plt.figure(2)\n# plt.imshow(scaled)",
      "outputs": [],
      "execution_count": null
    },
    {
      "cell_type": "code",
      "metadata": {
        "tags": [],
        "cell_id": "00004-d573594f-5ac6-4a73-a6cf-0f2b1ac52d5a",
        "deepnote_to_be_reexecuted": false,
        "source_hash": "a6b95504",
        "execution_millis": 1,
        "execution_start": 1616298124738,
        "deepnote_cell_type": "code"
      },
      "source": "# brightness\ndef augBrightness(image, factor):\n  im_br = ImageEnhance.Brightness(image)\n  return im_br.enhance(factor)\n\n# contrast \ndef augContrast(image, factor):\n  im_ct = ImageEnhance.Contrast(image)\n  return im_ct.enhance(factor)\n\n# noise\ndef augNoise(image, var):\n  np_arr_img = np.array(image)\n  with_noise = random_noise(np_arr_img, var=var)\n  return Image.fromarray(np.uint8(with_noise * 255))\n\n# blur \ndef augBlur(image, factor):\n  im_bl = ImageEnhance.Sharpness(image)\n  return im_bl.enhance(factor)",
      "outputs": [],
      "execution_count": null
    },
    {
      "cell_type": "code",
      "metadata": {
        "tags": [],
        "cell_id": "00005-f7c87b92-07d8-4109-87b0-24e93fe7314a",
        "deepnote_to_be_reexecuted": false,
        "source_hash": "b149f98e",
        "execution_millis": 28,
        "execution_start": 1616298124746,
        "deepnote_cell_type": "code"
      },
      "source": "# there are 7 modifications, we want to make equal use of each\n\n# directory for un-augmented image sets\nROOT_DIR = './Mush_train'\nclass_dirs = os.listdir(ROOT_DIR)\n\n# directory for augmented image sets\nAUG_DIR_1 = './Mushaugm1'\nAUG_DIR_2 = './Mushaugm2'\n\n# augmenting process\nlim1 = 1000\nlim2 = 2000\n\ntrans = [\n    lambda im: augBrightness(im, 0.5),  # 0 darken\n    lambda im: augBrightness(im, 2.0),  # 1 brighten\n    lambda im: augContrast(im, 0.5),    # 2 contrast down\n    lambda im: augContrast(im, 2.0),    # 3 contrast up\n    lambda im: horizontal_flip(im),     # 4 horizontal flip\n    lambda im: augNoise(im, 0.01),      # 5 low noise\n    lambda im: augNoise(im, 0.02),      # 6 high noise\n    lambda im: augBlur(im, 0.8),        # 7 low blur\n    lambda im: augBlur(im, 0.7),        # 8 high blur\n]\n\ntrans_orig = [\n    lambda im: rotate_by(im, 45),  # 0 rotate 45\n    lambda im: random_scale(im),   # 1 rand scale\n    lambda im: rotate_by(im, -45), # 2 rotate -45\n    lambda im: random_scale(im)    # 3 rand scale\n]",
      "outputs": [],
      "execution_count": null
    },
    {
      "cell_type": "code",
      "source": "# crop image to specific size \ndef fix_image(image):\n    width, height = image.size\n    width -= width % 2\n    height -= height % 2\n\n    width_half = width // 2\n    height_half = height // 2\n\n    if width < height: # preserve width\n        image = image.crop((0, height_half - width_half, width, height_half + width_half))\n        \n    else: # preserve height\n        image = image.crop((width_half - height_half, 0, width_half + height_half, height)) \n\n    image = image.resize((IM_SIZE, IM_SIZE))\n    return image",
      "metadata": {
        "tags": [],
        "cell_id": "00006-fc063f0c-c0a5-4155-bb2f-41fbe19b5179",
        "deepnote_to_be_reexecuted": false,
        "source_hash": "af8861a1",
        "execution_start": 1616298124815,
        "execution_millis": 0,
        "deepnote_cell_type": "code"
      },
      "outputs": [],
      "execution_count": null
    },
    {
      "cell_type": "code",
      "metadata": {
        "tags": [],
        "cell_id": "00006-fd12b93f-9b0d-40a2-b603-ca13a41882b6",
        "deepnote_to_be_reexecuted": false,
        "source_hash": "3d798f22",
        "execution_millis": 0,
        "execution_start": 1616298124816,
        "deepnote_cell_type": "code"
      },
      "source": "def copy(lim, root_dir, aug_dir):\n  # make sure the new base folder exists\n  if not os.path.isdir(aug_dir):\n    os.mkdir(aug_dir)\n  \n  for cdir in class_dirs:\n    cpath = root_dir + '/' + cdir\n    wpath = aug_dir + '/' + cdir\n\n    if not os.path.isdir(wpath):\n      os.mkdir(wpath)\n\n    im_paths = os.listdir(cpath)  # all the image filenames\n    \n    for i in range(len(im_paths)):\n      if i >= lim:\n        break\n      \n      # trans_each + 1 transforms on each of these images\n      cim_path = cpath + '/' + im_paths[i]\n      cw_path = wpath + '/' + im_paths[i]\n      cim = Image.open(cim_path)\n      cim.save(cw_path)",
      "outputs": [],
      "execution_count": null
    },
    {
      "cell_type": "code",
      "metadata": {
        "tags": [],
        "cell_id": "00006-689816d9-f7ea-4852-8c3c-76258c7f475a",
        "deepnote_to_be_reexecuted": false,
        "source_hash": "fcd2aba0",
        "execution_millis": 0,
        "execution_start": 1616298124859,
        "deepnote_cell_type": "code"
      },
      "source": "def fill(lim, aug_dir):\n  # make sure the new base folder exists\n  if not os.path.isdir(aug_dir):\n    os.mkdir(aug_dir)\n  \n  all_transforms = trans + trans_orig\n  trans_cnt = len(all_transforms)\n  \n  # Fill folders first using 240 x 240 images\n  for cdir in class_dirs:\n    cpath = ROOT_DIR + '/' + cdir # Source folder\n    wpath = aug_dir + '/' + cdir  # Augmented folder path\n\n    # Create augmented folder if it doesn't exist\n    if not os.path.isdir(wpath):\n      os.mkdir(wpath)\n\n    im_paths = os.listdir(cpath)  # all the image filenames\n    cls_cnt = len(im_paths)       # how many images are in this class\n    \n    exists_cnt = len(os.listdir(wpath))\n    req = lim - exists_cnt           # how many new images we need \n    \n    # now evenly distribute the required number among all images\n    trans_each = req // cls_cnt\n    on_last = req % cls_cnt\n    at_trans = 0\n    cnt_viewed = 0\n\n    for i in range(on_last):\n      # trans_each + 1 transforms on each of these images\n      cim_path = cpath + '/' + im_paths[i]\n      cw_path = wpath + '/' + im_paths[i]\n      cim = Image.open(cim_path)\n      \n      # save transformed images with transform id suffix\n      for ti in range(trans_each + 1):\n        new_image = None\n\n        if at_trans < len(trans):\n          new_image = all_transforms[at_trans](fix_image(cim))\n        else: \n          new_image = fix_image(all_transforms[at_trans](cim))\n\n        save_name = '.'.join(cw_path.split('.')[:-1]) + '__' + str(at_trans) + '.' + cw_path.split('.')[-1]\n        new_image.save(save_name)\n        at_trans = (at_trans + 1) % trans_cnt\n\n    for i in range(on_last, cls_cnt):\n      # trans_each + 1 transforms on each of these images\n      cim_path = cpath + '/' + im_paths[i]\n      cw_path = wpath + '/' + im_paths[i]\n      cim = Image.open(cim_path)\n\n      # save transformed images with transform id suffix\n      for ti in range(trans_each):\n        new_image = None\n\n        if at_trans < len(trans):\n          new_image = all_transforms[at_trans](fix_image(cim))\n        else: \n          new_image = fix_image(all_transforms[at_trans](cim))\n\n        save_name = '.'.join(cw_path.split('.')[:-1]) + '__' + str(at_trans) + '.' + cw_path.split('.')[-1]\n        new_image.save(save_name)\n        at_trans = (at_trans + 1) % trans_cnt",
      "outputs": [],
      "execution_count": null
    },
    {
      "cell_type": "code",
      "metadata": {
        "tags": [],
        "cell_id": "00008-79748b1e-9306-426f-af22-587616b1b6f7",
        "deepnote_to_be_reexecuted": false,
        "source_hash": "65129479",
        "execution_millis": 204787,
        "execution_start": 1616298124860,
        "deepnote_cell_type": "code"
      },
      "source": "# Copy the images to the new augmented directory\ncopy(lim1, ROOT_DIR, AUG_DIR_1)",
      "outputs": [],
      "execution_count": null
    },
    {
      "cell_type": "code",
      "metadata": {
        "tags": [],
        "cell_id": "00007-c8db098e-7ffc-4761-a7df-5ed5c30c25e0",
        "deepnote_to_be_reexecuted": true,
        "source_hash": "55fddd73",
        "execution_millis": 110787,
        "deepnote_cell_type": "code"
      },
      "source": "fill(lim1, AUG_DIR_1)",
      "execution_count": null,
      "outputs": []
    },
    {
      "cell_type": "code",
      "metadata": {
        "tags": [],
        "cell_id": "00008-7b26d3bb-9ffc-483a-b971-0fb0dcd0df2e",
        "deepnote_to_be_reexecuted": true,
        "source_hash": "146da3f7",
        "execution_millis": 163,
        "deepnote_cell_type": "code"
      },
      "source": "for cdir in os.listdir(AUG_DIR_1):\n  print(cdir, ':', len(os.listdir(AUG_DIR_1 + '/' + cdir)))",
      "execution_count": null,
      "outputs": [
        {
          "name": "stdout",
          "text": "Russula : 1000\nBoletus : 1000\nAgaricus : 1000\nAmanita : 1000\nCortinarius : 1000\nLactarius : 1000\nHygrocybe : 1000\nEntoloma : 1000\nSuillus : 1000\n",
          "output_type": "stream"
        }
      ]
    },
    {
      "cell_type": "code",
      "metadata": {
        "tags": [],
        "cell_id": "00009-3f299fa0-7992-46b1-9f12-4b9749ff8251",
        "deepnote_to_be_reexecuted": true,
        "source_hash": "cf4b878c",
        "execution_millis": 351201,
        "deepnote_cell_type": "code"
      },
      "source": "copy(lim2, ROOT_DIR, AUG_DIR_2)\nfill(lim2, AUG_DIR_2)",
      "execution_count": null,
      "outputs": []
    },
    {
      "cell_type": "code",
      "metadata": {
        "tags": [],
        "cell_id": "00010-4e398c02-1edd-4a04-b64d-4bffca7dc9ec",
        "deepnote_to_be_reexecuted": true,
        "source_hash": "8c39a952",
        "execution_millis": 378,
        "deepnote_cell_type": "code"
      },
      "source": "for cdir in os.listdir(AUG_DIR_2):\n  print(cdir, ':', len(os.listdir(AUG_DIR_2 + '/' + cdir)))",
      "execution_count": null,
      "outputs": [
        {
          "name": "stdout",
          "text": "Suillus : 2000\nEntoloma : 2000\nRussula : 2000\nCortinarius : 2000\nBoletus : 2000\nHygrocybe : 2000\nLactarius : 2000\nAmanita : 2000\nAgaricus : 2000\n",
          "output_type": "stream"
        }
      ]
    },
    {
      "cell_type": "markdown",
      "source": "<a style='text-decoration:none;line-height:16px;display:flex;color:#5B5B62;padding:10px;justify-content:end;' href='https://deepnote.com?utm_source=created-in-deepnote-cell&projectId=88b4a261-3cf5-4bb1-820f-4791ebb8a30d' target=\"_blank\">\n<img style='display:inline;max-height:16px;margin:0px;margin-right:7.5px;' src='data:image/svg+xml;base64,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' > </img>\nCreated in <span style='font-weight:600;margin-left:4px;'>Deepnote</span></a>",
      "metadata": {
        "tags": [],
        "created_in_deepnote_cell": true,
        "deepnote_cell_type": "markdown"
      }
    }
  ],
  "nbformat": 4,
  "nbformat_minor": 2,
  "metadata": {
    "orig_nbformat": 2,
    "deepnote_notebook_id": "43197e30-8dd8-401d-af88-c37fff2a5018",
    "deepnote": {},
    "deepnote_execution_queue": []
  }
}